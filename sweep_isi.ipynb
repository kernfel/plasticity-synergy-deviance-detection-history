{
 "cells": [
  {
   "cell_type": "code",
   "execution_count": null,
   "metadata": {},
   "outputs": [],
   "source": [
    "import multiprocessing as mp\n",
    "import matplotlib.pyplot as plt\n",
    "import deepdish as dd\n",
    "from brian2.only import *\n",
    "import brian2genn\n",
    "\n",
    "%load_ext autoreload\n",
    "%autoreload 1\n",
    "\n",
    "%aimport numpy_\n",
    "%aimport spatial\n",
    "%aimport model\n",
    "%aimport inputs\n",
    "%aimport util\n",
    "%aimport spike_utils\n",
    "%aimport readout\n",
    "\n",
    "# for the IDE:\n",
    "import numpy_ as np\n",
    "import spatial, model, inputs, readout\n",
    "\n",
    "from util import concatenate\n",
    "np.concatenate = concatenate\n",
    "from spike_utils import iterspikes"
   ]
  },
  {
   "cell_type": "code",
   "execution_count": null,
   "metadata": {},
   "outputs": [],
   "source": [
    "rng = np.random.default_rng()\n",
    "set_device('genn')"
   ]
  },
  {
   "cell_type": "code",
   "execution_count": null,
   "metadata": {},
   "outputs": [],
   "source": [
    "N = 1000\n",
    "inhibitory_ratio = .2\n",
    "\n",
    "params = {\n",
    "    # Simulation\n",
    "    'dt': 1*ms,\n",
    "    \n",
    "    # Population size\n",
    "    'N': N,\n",
    "    'N_exc': int((1-inhibitory_ratio) * N),\n",
    "    'N_inh': int(inhibitory_ratio * N),\n",
    "\n",
    "    # Membrane\n",
    "    'v_rest': -60*mV,\n",
    "    'v_reset': -74*mV,\n",
    "    'v_threshold': -54*mV,\n",
    "    'voltage_init': 'v_rest',\n",
    "    \n",
    "    'tau_mem': 30*ms,\n",
    "    'refractory_exc': 3*ms,\n",
    "    'refractory_inh': 2*ms,\n",
    "\n",
    "    # Threshold adaptation - Exc\n",
    "    'th_tau': 1*second,\n",
    "    'th_ampl': 1*mV,\n",
    "\n",
    "    # Short-term plasticity - Exc\n",
    "    'tau_rec': 150*msecond,\n",
    "    'U': 0.4,\n",
    "\n",
    "    # Synapse dynamics\n",
    "    'E_exc': 0*mV,\n",
    "    'tau_ampa': 2*msecond,\n",
    "    'E_inh': -100*mV,\n",
    "    'tau_gaba': 4*msecond,\n",
    "    \n",
    "    # # Stochasticity\n",
    "    # 'tau_noise': 10*msecond,\n",
    "    # 'vnoise_std': 0.5*mV,\n",
    "\n",
    "    # Layout\n",
    "    'r_dish': 4*mm,\n",
    "    'weight_distribution': 'singular',\n",
    "    \n",
    "    # Connectivity: Inh\n",
    "    'r_inh': 1*mm,\n",
    "    'outdeg_inh': 50,\n",
    "    'w_inh_mean': 1,\n",
    "\n",
    "    # Connectivity: Exc\n",
    "    'r_exc': 2*mm,\n",
    "    'outdeg_exc': 50,\n",
    "    'w_exc_mean': 1,\n",
    "\n",
    "    # Stimulus\n",
    "    'N_stimuli': 5,\n",
    "    'stim_distribution_radius': 2.5*mm,\n",
    "    'neurons_per_stim': 10,\n",
    "    'input_strength': 100,\n",
    "\n",
    "    # Paradigm\n",
    "    'settling_period': 1*second,\n",
    "    'sequence_length': 5,\n",
    "    'sequence_count': 20,\n",
    "    'fully_random_msc': True,\n",
    "    'ISI': 100*ms,\n",
    "}"
   ]
  },
  {
   "cell_type": "code",
   "execution_count": null,
   "metadata": {},
   "outputs": [],
   "source": [
    "fname = 'presynaptic_events_singular.npz'\n",
    "out_fname = 'data/sweep_isi_0.{isi}.h5'"
   ]
  },
  {
   "cell_type": "code",
   "execution_count": null,
   "metadata": {},
   "outputs": [],
   "source": [
    "f = np.load(fname)\n",
    "W, X, Y, D, A, B = [f[k] for k in 'WXYDAB']\n",
    "X, Y = X*meter, Y*meter\n",
    "Xstim, Ystim = spatial.create_stimulus_locations(params)"
   ]
  },
  {
   "cell_type": "code",
   "execution_count": null,
   "metadata": {},
   "outputs": [],
   "source": [
    "iterations = 10\n",
    "for isi in np.arange(50, 750, 50):\n",
    "    isi_params = {**params, 'ISI': isi*ms}\n",
    "    results = [None]*iterations\n",
    "    for iteration in range(iterations):\n",
    "        device.reinit()\n",
    "        device.activate()\n",
    "        Net = model.create_network(X, Y, Xstim, Ystim, W, D, isi_params, reset_dt=inputs.get_episode_duration(isi_params))\n",
    "        results[iteration], T = readout.setup_run(Net, isi_params, rng, {'A': A, 'B': B})\n",
    "        Net.run(T)\n",
    "        readout.get_results(Net, isi_params, W, results[iteration])\n",
    "    dd.io.save(out_fname.format(isi=isi), results)"
   ]
  },
  {
   "cell_type": "code",
   "execution_count": null,
   "metadata": {},
   "outputs": [],
   "source": []
  }
 ],
 "metadata": {
  "interpreter": {
   "hash": "15bfb9686cafad26212ed8ae61e68e8aeb28d7ffca94aefdc66c318d677a977e"
  },
  "kernelspec": {
   "display_name": "Python 3.10.4 ('.env': venv)",
   "language": "python",
   "name": "python3"
  },
  "language_info": {
   "codemirror_mode": {
    "name": "ipython",
    "version": 3
   },
   "file_extension": ".py",
   "mimetype": "text/x-python",
   "name": "python",
   "nbconvert_exporter": "python",
   "pygments_lexer": "ipython3",
   "version": "3.10.4"
  },
  "orig_nbformat": 4
 },
 "nbformat": 4,
 "nbformat_minor": 2
}
